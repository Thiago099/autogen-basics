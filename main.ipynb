{
 "cells": [
  {
   "cell_type": "code",
   "execution_count": 1,
   "metadata": {},
   "outputs": [
    {
     "ename": "AttributeError",
     "evalue": "module 'autogen' has no attribute 'AssistantAgent'",
     "output_type": "error",
     "traceback": [
      "\u001b[1;31m---------------------------------------------------------------------------\u001b[0m",
      "\u001b[1;31mAttributeError\u001b[0m                            Traceback (most recent call last)",
      "\u001b[1;32md:\\Bibilhotecas\\Downloads\\autogen-basics\\main.ipynb Cell 1\u001b[0m line \u001b[0;36m1\n\u001b[0;32m      <a href='vscode-notebook-cell:/d%3A/Bibilhotecas/Downloads/autogen-basics/main.ipynb#W0sZmlsZQ%3D%3D?line=2'>3</a>\u001b[0m config_list \u001b[39m=\u001b[39m [\n\u001b[0;32m      <a href='vscode-notebook-cell:/d%3A/Bibilhotecas/Downloads/autogen-basics/main.ipynb#W0sZmlsZQ%3D%3D?line=3'>4</a>\u001b[0m     {\n\u001b[0;32m      <a href='vscode-notebook-cell:/d%3A/Bibilhotecas/Downloads/autogen-basics/main.ipynb#W0sZmlsZQ%3D%3D?line=4'>5</a>\u001b[0m         \u001b[39m'\u001b[39m\u001b[39mmodel\u001b[39m\u001b[39m'\u001b[39m: \u001b[39m'\u001b[39m\u001b[39mopen_ai\u001b[39m\u001b[39m'\u001b[39m,\n\u001b[1;32m   (...)\u001b[0m\n\u001b[0;32m      <a href='vscode-notebook-cell:/d%3A/Bibilhotecas/Downloads/autogen-basics/main.ipynb#W0sZmlsZQ%3D%3D?line=7'>8</a>\u001b[0m     }\n\u001b[0;32m      <a href='vscode-notebook-cell:/d%3A/Bibilhotecas/Downloads/autogen-basics/main.ipynb#W0sZmlsZQ%3D%3D?line=8'>9</a>\u001b[0m ]\n\u001b[0;32m     <a href='vscode-notebook-cell:/d%3A/Bibilhotecas/Downloads/autogen-basics/main.ipynb#W0sZmlsZQ%3D%3D?line=10'>11</a>\u001b[0m llm_config\u001b[39m=\u001b[39m{\n\u001b[0;32m     <a href='vscode-notebook-cell:/d%3A/Bibilhotecas/Downloads/autogen-basics/main.ipynb#W0sZmlsZQ%3D%3D?line=11'>12</a>\u001b[0m     \u001b[39m\"\u001b[39m\u001b[39mrequest_timeout\u001b[39m\u001b[39m\"\u001b[39m: \u001b[39m600\u001b[39m,\n\u001b[0;32m     <a href='vscode-notebook-cell:/d%3A/Bibilhotecas/Downloads/autogen-basics/main.ipynb#W0sZmlsZQ%3D%3D?line=12'>13</a>\u001b[0m     \u001b[39m\"\u001b[39m\u001b[39mseed\u001b[39m\u001b[39m\"\u001b[39m: \u001b[39m42\u001b[39m,\n\u001b[0;32m     <a href='vscode-notebook-cell:/d%3A/Bibilhotecas/Downloads/autogen-basics/main.ipynb#W0sZmlsZQ%3D%3D?line=13'>14</a>\u001b[0m     \u001b[39m\"\u001b[39m\u001b[39mconfig_list\u001b[39m\u001b[39m\"\u001b[39m: config_list,\n\u001b[0;32m     <a href='vscode-notebook-cell:/d%3A/Bibilhotecas/Downloads/autogen-basics/main.ipynb#W0sZmlsZQ%3D%3D?line=14'>15</a>\u001b[0m     \u001b[39m\"\u001b[39m\u001b[39mtemperature\u001b[39m\u001b[39m\"\u001b[39m: \u001b[39m0\u001b[39m\n\u001b[0;32m     <a href='vscode-notebook-cell:/d%3A/Bibilhotecas/Downloads/autogen-basics/main.ipynb#W0sZmlsZQ%3D%3D?line=15'>16</a>\u001b[0m }\n\u001b[1;32m---> <a href='vscode-notebook-cell:/d%3A/Bibilhotecas/Downloads/autogen-basics/main.ipynb#W0sZmlsZQ%3D%3D?line=17'>18</a>\u001b[0m assistant \u001b[39m=\u001b[39m autogen\u001b[39m.\u001b[39;49mAssistantAgent(\n\u001b[0;32m     <a href='vscode-notebook-cell:/d%3A/Bibilhotecas/Downloads/autogen-basics/main.ipynb#W0sZmlsZQ%3D%3D?line=18'>19</a>\u001b[0m     name\u001b[39m=\u001b[39m\u001b[39m\"\u001b[39m\u001b[39mCTO\u001b[39m\u001b[39m\"\u001b[39m,\n\u001b[0;32m     <a href='vscode-notebook-cell:/d%3A/Bibilhotecas/Downloads/autogen-basics/main.ipynb#W0sZmlsZQ%3D%3D?line=19'>20</a>\u001b[0m     llm_config\u001b[39m=\u001b[39mllm_config,\n\u001b[0;32m     <a href='vscode-notebook-cell:/d%3A/Bibilhotecas/Downloads/autogen-basics/main.ipynb#W0sZmlsZQ%3D%3D?line=20'>21</a>\u001b[0m     system_message\u001b[39m=\u001b[39m\u001b[39m\"\u001b[39m\u001b[39mChief technical officer of a tech company\u001b[39m\u001b[39m\"\u001b[39m\n\u001b[0;32m     <a href='vscode-notebook-cell:/d%3A/Bibilhotecas/Downloads/autogen-basics/main.ipynb#W0sZmlsZQ%3D%3D?line=21'>22</a>\u001b[0m )\n\u001b[0;32m     <a href='vscode-notebook-cell:/d%3A/Bibilhotecas/Downloads/autogen-basics/main.ipynb#W0sZmlsZQ%3D%3D?line=23'>24</a>\u001b[0m user_proxy \u001b[39m=\u001b[39m autogen\u001b[39m.\u001b[39mUserProxyAgent(\n\u001b[0;32m     <a href='vscode-notebook-cell:/d%3A/Bibilhotecas/Downloads/autogen-basics/main.ipynb#W0sZmlsZQ%3D%3D?line=24'>25</a>\u001b[0m     name\u001b[39m=\u001b[39m\u001b[39m\"\u001b[39m\u001b[39muser_proxy\u001b[39m\u001b[39m\"\u001b[39m,\n\u001b[0;32m     <a href='vscode-notebook-cell:/d%3A/Bibilhotecas/Downloads/autogen-basics/main.ipynb#W0sZmlsZQ%3D%3D?line=25'>26</a>\u001b[0m     human_input_mode\u001b[39m=\u001b[39m\u001b[39m\"\u001b[39m\u001b[39mNEVER\u001b[39m\u001b[39m\"\u001b[39m,\n\u001b[1;32m   (...)\u001b[0m\n\u001b[0;32m     <a href='vscode-notebook-cell:/d%3A/Bibilhotecas/Downloads/autogen-basics/main.ipynb#W0sZmlsZQ%3D%3D?line=31'>32</a>\u001b[0m \u001b[39mOtherwise, reply CONTINUE, or the reason why the task is not solved yet.\u001b[39m\u001b[39m\"\"\"\u001b[39m\n\u001b[0;32m     <a href='vscode-notebook-cell:/d%3A/Bibilhotecas/Downloads/autogen-basics/main.ipynb#W0sZmlsZQ%3D%3D?line=32'>33</a>\u001b[0m )\n\u001b[0;32m     <a href='vscode-notebook-cell:/d%3A/Bibilhotecas/Downloads/autogen-basics/main.ipynb#W0sZmlsZQ%3D%3D?line=34'>35</a>\u001b[0m task \u001b[39m=\u001b[39m \u001b[39m\"\"\"\u001b[39m\n\u001b[0;32m     <a href='vscode-notebook-cell:/d%3A/Bibilhotecas/Downloads/autogen-basics/main.ipynb#W0sZmlsZQ%3D%3D?line=35'>36</a>\u001b[0m \u001b[39mWrite python code to output numbers 1 to 100, and then store the code in a file\u001b[39m\n\u001b[0;32m     <a href='vscode-notebook-cell:/d%3A/Bibilhotecas/Downloads/autogen-basics/main.ipynb#W0sZmlsZQ%3D%3D?line=36'>37</a>\u001b[0m \u001b[39m\"\"\"\u001b[39m\n",
      "\u001b[1;31mAttributeError\u001b[0m: module 'autogen' has no attribute 'AssistantAgent'"
     ]
    }
   ],
   "source": [
    "import autogen\n",
    "\n",
    "config_list = [\n",
    "    {\n",
    "        'model': 'open_ai',\n",
    "        'api_base': 'http://localhost:1234/v1',\n",
    "        'api_key': 'null'\n",
    "    }\n",
    "]\n",
    "\n",
    "llm_config={\n",
    "    \"request_timeout\": 600,\n",
    "    \"seed\": 42,\n",
    "    \"config_list\": config_list,\n",
    "    \"temperature\": 0\n",
    "}\n",
    "\n",
    "assistant = autogen.AssistantAgent(\n",
    "    name=\"CTO\",\n",
    "    llm_config=llm_config,\n",
    "    system_message=\"Chief technical officer of a tech company\"\n",
    ")\n",
    "\n",
    "user_proxy = autogen.UserProxyAgent(\n",
    "    name=\"user_proxy\",\n",
    "    human_input_mode=\"NEVER\",\n",
    "    max_consecutive_auto_reply=10,\n",
    "    is_termination_msg=lambda x: x.get(\"content\", \"\").rstrip().endswith(\"TERMINATE\"),\n",
    "    code_execution_config={\"work_dir\": \"web\"},\n",
    "    llm_config=llm_config,\n",
    "    system_message=\"\"\"Reply TERMINATE if the task has been solved at full satisfaction.\n",
    "Otherwise, reply CONTINUE, or the reason why the task is not solved yet.\"\"\"\n",
    ")\n",
    "\n",
    "task = \"\"\"\n",
    "Write python code to output numbers 1 to 100, and then store the code in a file\n",
    "\"\"\"\n",
    "\n",
    "user_proxy.initiate_chat(\n",
    "    assistant,\n",
    "    message=task\n",
    ")\n",
    "\n",
    "task2 = \"\"\"\n",
    "Change the code in the file you just created to instead output numbers 1 to 200\n",
    "\"\"\"\n",
    "\n",
    "user_proxy.initiate_chat(\n",
    "    assistant,\n",
    "    message=task2\n",
    ")"
   ]
  }
 ],
 "metadata": {
  "kernelspec": {
   "display_name": "Python 3",
   "language": "python",
   "name": "python3"
  },
  "language_info": {
   "codemirror_mode": {
    "name": "ipython",
    "version": 3
   },
   "file_extension": ".py",
   "mimetype": "text/x-python",
   "name": "python",
   "nbconvert_exporter": "python",
   "pygments_lexer": "ipython3",
   "version": "3.10.11"
  }
 },
 "nbformat": 4,
 "nbformat_minor": 2
}
